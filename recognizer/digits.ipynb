{
 "cells": [
  {
   "cell_type": "code",
   "execution_count": 52,
   "metadata": {
    "collapsed": true
   },
   "outputs": [],
   "source": [
    "import csv\n",
    "import numpy as np"
   ]
  },
  {
   "cell_type": "markdown",
   "metadata": {},
   "source": [
    "### Dataset Input"
   ]
  },
  {
   "cell_type": "code",
   "execution_count": 53,
   "metadata": {
    "collapsed": false
   },
   "outputs": [],
   "source": [
    "## Train Dataset.\n",
    "images = [] # Images as vectors\n",
    "digits = [] # Digits in the images\n",
    "\n",
    "with open('train.csv', 'rb') as trainfile:\n",
    "    trainread = csv.reader(trainfile, delimiter=',', quotechar=\"'\")\n",
    "    trainread.next() # Skips header\n",
    "\n",
    "    for row in trainread: # Reads image and digit\n",
    "        row = [int(i) for i in row]\n",
    "        digits.append(row[0])\n",
    "        images.append(row[1:])\n",
    "        \n",
    "#images = np.array(images)\n",
    "#digits = np.array(digits)"
   ]
  },
  {
   "cell_type": "code",
   "execution_count": 54,
   "metadata": {
    "collapsed": true
   },
   "outputs": [],
   "source": [
    "## Test Dataset\n",
    "test_images = []\n",
    "\n",
    "with open('test.csv', 'rb') as testfile:\n",
    "    testread = csv.reader(testfile, delimiter=',', quotechar=\"'\")\n",
    "    testread.next() # Skips header\n",
    "    \n",
    "    for row in testread:\n",
    "        row = [int(i) for i in row]\n",
    "        test_images.append(row)\n",
    "        \n",
    "#test_images = np.array(test_images)"
   ]
  },
  {
   "cell_type": "markdown",
   "metadata": {},
   "source": [
    "### Submissions"
   ]
  },
  {
   "cell_type": "code",
   "execution_count": 55,
   "metadata": {
    "collapsed": true
   },
   "outputs": [],
   "source": [
    "def submit(prediction,file):\n",
    "    with open(file + '.csv', 'wb') as outfile:\n",
    "        predwriter = csv.writer(outfile,delimiter=\",\",quotechar='|', quoting=csv.QUOTE_MINIMAL)\n",
    "        \n",
    "        predwriter.writerow(['ImageId','Label'])\n",
    "        for i in range(len(prediction)):\n",
    "            predwriter.writerow([i+1,prediction[i]])"
   ]
  },
  {
   "cell_type": "markdown",
   "metadata": {},
   "source": [
    "### KNN Classifier"
   ]
  },
  {
   "cell_type": "code",
   "execution_count": 69,
   "metadata": {
    "collapsed": false
   },
   "outputs": [
    {
     "data": {
      "text/plain": [
       "KNeighborsClassifier(algorithm='auto', leaf_size=30, metric='minkowski',\n",
       "           n_neighbors=4, p=2, weights='uniform')"
      ]
     },
     "execution_count": 69,
     "metadata": {},
     "output_type": "execute_result"
    }
   ],
   "source": [
    "## KNN Classifier\n",
    "# Training\n",
    "from sklearn import neighbors\n",
    "from sklearn import cross_validation\n",
    "from sklearn.cross_validation import StratifiedShuffleSplit\n",
    "\n",
    "train = []\n",
    "target = []\n",
    "sample = StratifiedShuffleSplit(digits, 1, train_size=0.05, random_state=0)\n",
    "\n",
    "for train_index,test_index in sample:\n",
    "    for i in train_index:\n",
    "        train.append(images[i])\n",
    "        target.append(digits[i])\n",
    "        \n",
    "train = np.array(train)\n",
    "target = np.array(target)\n",
    "\n",
    "\n",
    "max_k=1000\n",
    "maximum=0\n",
    "k=0\n",
    "\n",
    "for i in range(max_k):\n",
    "    knn = neighbors.KNeighborsClassifier(n_neighbors=i+1)\n",
    "    # Computing the mean of the cross validation accuracies\n",
    "    score = cross_validation.cross_val_score(knn, train, target, cv=3, n_jobs=-1).mean()\n",
    "    (k,maximum) = (i,score) if maximum < score else (k,maximum)\n",
    "    \n",
    "knn = neighbors.KNeighborsClassifier(n_neighbors=k+1)\n",
    "knn.fit(images,digits)"
   ]
  },
  {
   "cell_type": "code",
   "execution_count": null,
   "metadata": {
    "collapsed": false
   },
   "outputs": [],
   "source": [
    "# Prediction\n",
    "knn_prediction = knn.predict(test_images).tolist()"
   ]
  },
  {
   "cell_type": "code",
   "execution_count": null,
   "metadata": {
    "collapsed": false
   },
   "outputs": [],
   "source": [
    "# Submission\n",
    "submit(knn_prediction,\"digits_knn1.s\")"
   ]
  },
  {
   "cell_type": "markdown",
   "metadata": {},
   "source": [
    "###Random Forest"
   ]
  },
  {
   "cell_type": "code",
   "execution_count": 5,
   "metadata": {
    "collapsed": false
   },
   "outputs": [
    {
     "data": {
      "text/plain": [
       "RandomForestClassifier(bootstrap=True, compute_importances=None,\n",
       "            criterion='gini', max_depth=None, max_features='auto',\n",
       "            min_density=None, min_samples_leaf=1, min_samples_split=2,\n",
       "            n_estimators=100, n_jobs=-1, oob_score=False,\n",
       "            random_state=None, verbose=0)"
      ]
     },
     "execution_count": 5,
     "metadata": {},
     "output_type": "execute_result"
    }
   ],
   "source": [
    "## Random Forests Classifier\n",
    "# Training\n",
    "from sklearn.ensemble import RandomForestClassifier\n",
    "k = 100\n",
    "forest = RandomForestClassifier(n_estimators = 100, n_jobs=-1)\n",
    "forest.fit(images, digits)"
   ]
  },
  {
   "cell_type": "code",
   "execution_count": 6,
   "metadata": {
    "collapsed": true
   },
   "outputs": [],
   "source": [
    "# Prediction\n",
    "forest_prediction = forest.predict(test_images).tolist()"
   ]
  },
  {
   "cell_type": "code",
   "execution_count": 10,
   "metadata": {
    "collapsed": true
   },
   "outputs": [],
   "source": [
    "# Submission\n",
    "submit(forest_prediction,\"forest_digits1\")"
   ]
  },
  {
   "cell_type": "markdown",
   "metadata": {},
   "source": [
    "### Naive Bayes"
   ]
  },
  {
   "cell_type": "code",
   "execution_count": 11,
   "metadata": {
    "collapsed": false
   },
   "outputs": [
    {
     "data": {
      "text/plain": [
       "GaussianNB()"
      ]
     },
     "execution_count": 11,
     "metadata": {},
     "output_type": "execute_result"
    }
   ],
   "source": [
    "## Naive Bayes Classifier\n",
    "# Training\n",
    "from sklearn.naive_bayes import GaussianNB\n",
    "nb = GaussianNB()\n",
    "nb.fit(images, digits)"
   ]
  },
  {
   "cell_type": "code",
   "execution_count": 12,
   "metadata": {
    "collapsed": true
   },
   "outputs": [],
   "source": [
    "# Prediction\n",
    "nb_prediction = nb.predict(test_images).tolist()"
   ]
  },
  {
   "cell_type": "code",
   "execution_count": 13,
   "metadata": {
    "collapsed": true
   },
   "outputs": [],
   "source": [
    "# Submission\n",
    "submit(nb_prediction,\"nbayes_digits1\")"
   ]
  },
  {
   "cell_type": "code",
   "execution_count": null,
   "metadata": {
    "collapsed": false
   },
   "outputs": [],
   "source": []
  }
 ],
 "metadata": {
  "kernelspec": {
   "display_name": "Python 2",
   "language": "python",
   "name": "python2"
  },
  "language_info": {
   "codemirror_mode": {
    "name": "ipython",
    "version": 2
   },
   "file_extension": ".py",
   "mimetype": "text/x-python",
   "name": "python",
   "nbconvert_exporter": "python",
   "pygments_lexer": "ipython2",
   "version": "2.7.6"
  }
 },
 "nbformat": 4,
 "nbformat_minor": 0
}
