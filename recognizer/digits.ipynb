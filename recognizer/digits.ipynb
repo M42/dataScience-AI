{
 "metadata": {
  "name": ""
 },
 "nbformat": 3,
 "nbformat_minor": 0,
 "worksheets": [
  {
   "cells": [
    {
     "cell_type": "code",
     "collapsed": false,
     "input": [
      "import csv"
     ],
     "language": "python",
     "metadata": {},
     "outputs": [],
     "prompt_number": 3
    },
    {
     "cell_type": "heading",
     "level": 3,
     "metadata": {},
     "source": [
      "Dataset Input"
     ]
    },
    {
     "cell_type": "code",
     "collapsed": false,
     "input": [
      "## Train Dataset.\n",
      "images = [] # Images as vectors\n",
      "digits = [] # Digits in the images\n",
      "\n",
      "with open('train.csv', 'rb') as trainfile:\n",
      "    trainread = csv.reader(trainfile, delimiter=',', quotechar=\"'\")\n",
      "    trainread.next() # Skips header\n",
      "\n",
      "    for row in trainread: # Reads image and digit\n",
      "        digits.append(row[0])\n",
      "        images.append(row[1:])"
     ],
     "language": "python",
     "metadata": {},
     "outputs": [],
     "prompt_number": 4
    },
    {
     "cell_type": "code",
     "collapsed": false,
     "input": [
      "## Test Dataset\n",
      "test_images = []\n",
      "\n",
      "with open('test.csv', 'rb') as testfile:\n",
      "    testread = csv.reader(testfile, delimiter=',', quotechar=\"'\")\n",
      "    testread.next() # Skips header\n",
      "    \n",
      "    for row in testread:\n",
      "        test_images.append(row)"
     ],
     "language": "python",
     "metadata": {},
     "outputs": [],
     "prompt_number": 5
    },
    {
     "cell_type": "markdown",
     "metadata": {},
     "source": [
      "### KNN Classifier"
     ]
    },
    {
     "cell_type": "code",
     "collapsed": false,
     "input": [
      "## KNN Classifier\n",
      "# Training\n",
      "from sklearn import neighbors\n",
      "k = 1\n",
      "knn = neighbors.KNeighborsClassifier(n_neighbors=k)\n",
      "knn.fit(images, digits)"
     ],
     "language": "python",
     "metadata": {},
     "outputs": [
      {
       "metadata": {},
       "output_type": "pyout",
       "prompt_number": 6,
       "text": [
        "KNeighborsClassifier(algorithm='auto', leaf_size=30, metric='minkowski',\n",
        "           n_neighbors=1, p=2, weights='uniform')"
       ]
      }
     ],
     "prompt_number": 6
    },
    {
     "cell_type": "code",
     "collapsed": false,
     "input": [
      "# Prediction\n",
      "knn_prediction = knn.predict(test_images[0:50]).tolist()"
     ],
     "language": "python",
     "metadata": {},
     "outputs": [],
     "prompt_number": 16
    },
    {
     "cell_type": "markdown",
     "metadata": {},
     "source": [
      "### Submissions"
     ]
    },
    {
     "cell_type": "code",
     "collapsed": false,
     "input": [
      "def submit(prediction):\n",
      "    with open('submission.csv', 'wb') as outfile:\n",
      "        predwriter = csv.writer(outfile,delimiter=\"'\",quotechar='|', quoting=csv.QUOTE_MINIMAL)\n",
      "        \n",
      "        predwriter.writerow(['ImageId','Label'])\n",
      "        for i in range(len(prediction)):\n",
      "            predwriter.writerow([i,prediction[i]])"
     ],
     "language": "python",
     "metadata": {},
     "outputs": [],
     "prompt_number": 18
    }
   ],
   "metadata": {}
  }
 ]
}