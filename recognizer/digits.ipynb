{
 "cells": [
  {
   "cell_type": "code",
   "execution_count": 1,
   "metadata": {
    "collapsed": true
   },
   "outputs": [],
   "source": [
    "import csv"
   ]
  },
  {
   "cell_type": "markdown",
   "metadata": {},
   "source": [
    "### Dataset Input"
   ]
  },
  {
   "cell_type": "code",
   "execution_count": 2,
   "metadata": {
    "collapsed": true
   },
   "outputs": [],
   "source": [
    "## Train Dataset.\n",
    "images = [] # Images as vectors\n",
    "digits = [] # Digits in the images\n",
    "\n",
    "with open('train.csv', 'rb') as trainfile:\n",
    "    trainread = csv.reader(trainfile, delimiter=',', quotechar=\"'\")\n",
    "    trainread.next() # Skips header\n",
    "\n",
    "    for row in trainread: # Reads image and digit\n",
    "        row = [int(i) for i in row]\n",
    "        digits.append(row[0])\n",
    "        images.append(row[1:])"
   ]
  },
  {
   "cell_type": "code",
   "execution_count": 3,
   "metadata": {
    "collapsed": true
   },
   "outputs": [],
   "source": [
    "## Test Dataset\n",
    "test_images = []\n",
    "\n",
    "with open('test.csv', 'rb') as testfile:\n",
    "    testread = csv.reader(testfile, delimiter=',', quotechar=\"'\")\n",
    "    testread.next() # Skips header\n",
    "    \n",
    "    for row in testread:\n",
    "        row = [int(i) for i in row]\n",
    "        test_images.append(row)"
   ]
  },
  {
   "cell_type": "markdown",
   "metadata": {},
   "source": [
    "### Submissions"
   ]
  },
  {
   "cell_type": "code",
   "execution_count": 4,
   "metadata": {
    "collapsed": true
   },
   "outputs": [],
   "source": [
    "def submit(prediction,file):\n",
    "    with open(file + '.csv', 'wb') as outfile:\n",
    "        predwriter = csv.writer(outfile,delimiter=\",\",quotechar='|', quoting=csv.QUOTE_MINIMAL)\n",
    "        \n",
    "        predwriter.writerow(['ImageId','Label'])\n",
    "        for i in range(len(prediction)):\n",
    "            predwriter.writerow([i+1,prediction[i]])"
   ]
  },
  {
   "cell_type": "markdown",
   "metadata": {},
   "source": [
    "### KNN Classifier"
   ]
  },
  {
   "cell_type": "code",
   "execution_count": null,
   "metadata": {
    "collapsed": false
   },
   "outputs": [
    {
     "data": {
      "text/plain": [
       "KNeighborsClassifier(algorithm='auto', leaf_size=30, metric='minkowski',\n",
       "           n_neighbors=1, p=2, weights='uniform')"
      ]
     },
     "execution_count": 5,
     "metadata": {},
     "output_type": "execute_result"
    }
   ],
   "source": [
    "## KNN Classifier\n",
    "# Training\n",
    "from sklearn import neighbors\n",
    "k = 1\n",
    "knn = neighbors.KNeighborsClassifier(n_neighbors=k)\n",
    "knn.fit(images, digits)"
   ]
  },
  {
   "cell_type": "code",
   "execution_count": null,
   "metadata": {
    "collapsed": true
   },
   "outputs": [],
   "source": [
    "# Prediction\n",
    "knn_prediction = knn.predict(test_images).tolist()"
   ]
  },
  {
   "cell_type": "code",
   "execution_count": null,
   "metadata": {
    "collapsed": false
   },
   "outputs": [],
   "source": [
    "# Submission\n",
    "submit(knn_prediction,\"digits_knn1.s\")"
   ]
  },
  {
   "cell_type": "markdown",
   "metadata": {},
   "source": [
    "###Random Forest"
   ]
  },
  {
   "cell_type": "code",
   "execution_count": null,
   "metadata": {
    "collapsed": true
   },
   "outputs": [],
   "source": [
    "## Random Forests Classifier\n",
    "# Training\n",
    "from sklearn.ensemble import RandomForestClassifier\n",
    "k = 100\n",
    "forest = RandomForestClassifier(n_estimators = 100, n_jobs=6)\n",
    "forest.fit(images, digits)"
   ]
  },
  {
   "cell_type": "code",
   "execution_count": null,
   "metadata": {
    "collapsed": true
   },
   "outputs": [],
   "source": [
    "# Prediction\n",
    "forest_prediction = forest.predict(test_images).tolist()"
   ]
  },
  {
   "cell_type": "code",
   "execution_count": null,
   "metadata": {
    "collapsed": true
   },
   "outputs": [],
   "source": [
    "# Submission\n",
    "submit(forest_prediction,\"forest_digits1\")"
   ]
  },
  {
   "cell_type": "markdown",
   "metadata": {},
   "source": [
    "### Naive Bayes"
   ]
  },
  {
   "cell_type": "code",
   "execution_count": null,
   "metadata": {
    "collapsed": false
   },
   "outputs": [],
   "source": [
    "## Naive Bayes Classifier\n",
    "# Training\n",
    "from sklearn.naive_bayes import GaussianNB\n",
    "nb = GaussianNB()\n",
    "nb.fit(images, digits)"
   ]
  },
  {
   "cell_type": "code",
   "execution_count": null,
   "metadata": {
    "collapsed": true
   },
   "outputs": [],
   "source": [
    "# Prediction\n",
    "nb_prediction = nb.predict(test_images).tolist()"
   ]
  },
  {
   "cell_type": "code",
   "execution_count": null,
   "metadata": {
    "collapsed": true
   },
   "outputs": [],
   "source": [
    "# Submission\n",
    "submit(nb_prediction,\"nbayes_digits1\")"
   ]
  },
  {
   "cell_type": "code",
   "execution_count": null,
   "metadata": {
    "collapsed": false
   },
   "outputs": [],
   "source": []
  }
 ],
 "metadata": {
  "kernelspec": {
   "display_name": "Python 2",
   "language": "python",
   "name": "python2"
  },
  "language_info": {
   "codemirror_mode": {
    "name": "ipython",
    "version": 2
   },
   "file_extension": ".py",
   "mimetype": "text/x-python",
   "name": "python",
   "nbconvert_exporter": "python",
   "pygments_lexer": "ipython2",
   "version": "2.7.6"
  }
 },
 "nbformat": 4,
 "nbformat_minor": 0
}
